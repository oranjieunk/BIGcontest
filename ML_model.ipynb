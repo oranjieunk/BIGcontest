{
 "cells": [
  {
   "cell_type": "code",
   "execution_count": 2,
   "metadata": {},
   "outputs": [],
   "source": [
    "import pandas as pd\n",
    "import numpy as np\n",
    "from plotnine import *"
   ]
  },
  {
   "cell_type": "markdown",
   "metadata": {},
   "source": [
    "# 파일 입력"
   ]
  },
  {
   "cell_type": "code",
   "execution_count": 5,
   "metadata": {},
   "outputs": [],
   "source": [
    "train_act = pd.read_csv(\"sample1_train_activity.csv\",header=None)"
   ]
  },
  {
   "cell_type": "code",
   "execution_count": 6,
   "metadata": {},
   "outputs": [
    {
     "data": {
      "text/html": [
       "<div>\n",
       "<style scoped>\n",
       "    .dataframe tbody tr th:only-of-type {\n",
       "        vertical-align: middle;\n",
       "    }\n",
       "\n",
       "    .dataframe tbody tr th {\n",
       "        vertical-align: top;\n",
       "    }\n",
       "\n",
       "    .dataframe thead th {\n",
       "        text-align: right;\n",
       "    }\n",
       "</style>\n",
       "<table border=\"1\" class=\"dataframe\">\n",
       "  <thead>\n",
       "    <tr style=\"text-align: right;\">\n",
       "      <th></th>\n",
       "      <th>0</th>\n",
       "      <th>1</th>\n",
       "      <th>2</th>\n",
       "      <th>3</th>\n",
       "      <th>4</th>\n",
       "      <th>5</th>\n",
       "      <th>6</th>\n",
       "      <th>7</th>\n",
       "      <th>8</th>\n",
       "      <th>9</th>\n",
       "      <th>...</th>\n",
       "      <th>28</th>\n",
       "      <th>29</th>\n",
       "      <th>30</th>\n",
       "      <th>31</th>\n",
       "      <th>32</th>\n",
       "      <th>33</th>\n",
       "      <th>34</th>\n",
       "      <th>35</th>\n",
       "      <th>36</th>\n",
       "      <th>37</th>\n",
       "    </tr>\n",
       "  </thead>\n",
       "  <tbody>\n",
       "    <tr>\n",
       "      <th>0</th>\n",
       "      <td>1</td>\n",
       "      <td>7ab9927559d86f8f5f015a8bfe7ffeaa8f4685bff86a76...</td>\n",
       "      <td>5</td>\n",
       "      <td>-0.653171</td>\n",
       "      <td>-0.231874</td>\n",
       "      <td>-0.290803</td>\n",
       "      <td>-0.250423</td>\n",
       "      <td>-0.487666</td>\n",
       "      <td>-0.306354</td>\n",
       "      <td>-0.569842</td>\n",
       "      <td>...</td>\n",
       "      <td>-0.03313</td>\n",
       "      <td>-0.034038</td>\n",
       "      <td>-0.231827</td>\n",
       "      <td>-0.016574</td>\n",
       "      <td>-0.275174</td>\n",
       "      <td>-0.343293</td>\n",
       "      <td>-0.024028</td>\n",
       "      <td>-0.503692</td>\n",
       "      <td>-0.027758</td>\n",
       "      <td>-0.365536</td>\n",
       "    </tr>\n",
       "    <tr>\n",
       "      <th>1</th>\n",
       "      <td>2</td>\n",
       "      <td>7ab9927559d86f8f5f015a8bfe7ffeaa8f4685bff86a76...</td>\n",
       "      <td>1</td>\n",
       "      <td>-0.660461</td>\n",
       "      <td>-0.231874</td>\n",
       "      <td>-0.290803</td>\n",
       "      <td>-0.250423</td>\n",
       "      <td>-0.487666</td>\n",
       "      <td>-0.306354</td>\n",
       "      <td>-0.569842</td>\n",
       "      <td>...</td>\n",
       "      <td>-0.03313</td>\n",
       "      <td>-0.034038</td>\n",
       "      <td>-0.231827</td>\n",
       "      <td>-0.016574</td>\n",
       "      <td>-0.275174</td>\n",
       "      <td>-0.343293</td>\n",
       "      <td>-0.024028</td>\n",
       "      <td>-0.503692</td>\n",
       "      <td>-0.027758</td>\n",
       "      <td>-0.365536</td>\n",
       "    </tr>\n",
       "    <tr>\n",
       "      <th>2</th>\n",
       "      <td>3</td>\n",
       "      <td>7ab9927559d86f8f5f015a8bfe7ffeaa8f4685bff86a76...</td>\n",
       "      <td>6</td>\n",
       "      <td>-0.654467</td>\n",
       "      <td>-0.231874</td>\n",
       "      <td>-0.290803</td>\n",
       "      <td>-0.250423</td>\n",
       "      <td>-0.487666</td>\n",
       "      <td>-0.306354</td>\n",
       "      <td>-0.569842</td>\n",
       "      <td>...</td>\n",
       "      <td>-0.03313</td>\n",
       "      <td>-0.034038</td>\n",
       "      <td>-0.231827</td>\n",
       "      <td>-0.016574</td>\n",
       "      <td>-0.275174</td>\n",
       "      <td>-0.343293</td>\n",
       "      <td>-0.024028</td>\n",
       "      <td>-0.503692</td>\n",
       "      <td>-0.027758</td>\n",
       "      <td>-0.365536</td>\n",
       "    </tr>\n",
       "    <tr>\n",
       "      <th>3</th>\n",
       "      <td>4</td>\n",
       "      <td>7ab9927559d86f8f5f015a8bfe7ffeaa8f4685bff86a76...</td>\n",
       "      <td>7</td>\n",
       "      <td>-0.652113</td>\n",
       "      <td>-0.231874</td>\n",
       "      <td>-0.290803</td>\n",
       "      <td>-0.250423</td>\n",
       "      <td>-0.487666</td>\n",
       "      <td>-0.306354</td>\n",
       "      <td>-0.569842</td>\n",
       "      <td>...</td>\n",
       "      <td>-0.03313</td>\n",
       "      <td>-0.034038</td>\n",
       "      <td>-0.231827</td>\n",
       "      <td>-0.016574</td>\n",
       "      <td>-0.275174</td>\n",
       "      <td>-0.343293</td>\n",
       "      <td>-0.024028</td>\n",
       "      <td>-0.503692</td>\n",
       "      <td>-0.027758</td>\n",
       "      <td>-0.365536</td>\n",
       "    </tr>\n",
       "    <tr>\n",
       "      <th>4</th>\n",
       "      <td>5</td>\n",
       "      <td>7ab9927559d86f8f5f015a8bfe7ffeaa8f4685bff86a76...</td>\n",
       "      <td>7</td>\n",
       "      <td>-0.651945</td>\n",
       "      <td>-0.231874</td>\n",
       "      <td>-0.290803</td>\n",
       "      <td>-0.250423</td>\n",
       "      <td>-0.487666</td>\n",
       "      <td>-0.306354</td>\n",
       "      <td>-0.569842</td>\n",
       "      <td>...</td>\n",
       "      <td>-0.03313</td>\n",
       "      <td>-0.034038</td>\n",
       "      <td>-0.231827</td>\n",
       "      <td>-0.016574</td>\n",
       "      <td>-0.275174</td>\n",
       "      <td>-0.343293</td>\n",
       "      <td>-0.024028</td>\n",
       "      <td>-0.503692</td>\n",
       "      <td>-0.027758</td>\n",
       "      <td>-0.365536</td>\n",
       "    </tr>\n",
       "  </tbody>\n",
       "</table>\n",
       "<p>5 rows × 38 columns</p>\n",
       "</div>"
      ],
      "text/plain": [
       "   0                                                  1   2         3   \\\n",
       "0   1  7ab9927559d86f8f5f015a8bfe7ffeaa8f4685bff86a76...   5 -0.653171   \n",
       "1   2  7ab9927559d86f8f5f015a8bfe7ffeaa8f4685bff86a76...   1 -0.660461   \n",
       "2   3  7ab9927559d86f8f5f015a8bfe7ffeaa8f4685bff86a76...   6 -0.654467   \n",
       "3   4  7ab9927559d86f8f5f015a8bfe7ffeaa8f4685bff86a76...   7 -0.652113   \n",
       "4   5  7ab9927559d86f8f5f015a8bfe7ffeaa8f4685bff86a76...   7 -0.651945   \n",
       "\n",
       "         4         5         6         7         8         9     ...     \\\n",
       "0 -0.231874 -0.290803 -0.250423 -0.487666 -0.306354 -0.569842    ...      \n",
       "1 -0.231874 -0.290803 -0.250423 -0.487666 -0.306354 -0.569842    ...      \n",
       "2 -0.231874 -0.290803 -0.250423 -0.487666 -0.306354 -0.569842    ...      \n",
       "3 -0.231874 -0.290803 -0.250423 -0.487666 -0.306354 -0.569842    ...      \n",
       "4 -0.231874 -0.290803 -0.250423 -0.487666 -0.306354 -0.569842    ...      \n",
       "\n",
       "        28        29        30        31        32        33        34  \\\n",
       "0 -0.03313 -0.034038 -0.231827 -0.016574 -0.275174 -0.343293 -0.024028   \n",
       "1 -0.03313 -0.034038 -0.231827 -0.016574 -0.275174 -0.343293 -0.024028   \n",
       "2 -0.03313 -0.034038 -0.231827 -0.016574 -0.275174 -0.343293 -0.024028   \n",
       "3 -0.03313 -0.034038 -0.231827 -0.016574 -0.275174 -0.343293 -0.024028   \n",
       "4 -0.03313 -0.034038 -0.231827 -0.016574 -0.275174 -0.343293 -0.024028   \n",
       "\n",
       "         35        36        37  \n",
       "0 -0.503692 -0.027758 -0.365536  \n",
       "1 -0.503692 -0.027758 -0.365536  \n",
       "2 -0.503692 -0.027758 -0.365536  \n",
       "3 -0.503692 -0.027758 -0.365536  \n",
       "4 -0.503692 -0.027758 -0.365536  \n",
       "\n",
       "[5 rows x 38 columns]"
      ]
     },
     "execution_count": 6,
     "metadata": {},
     "output_type": "execute_result"
    }
   ],
   "source": [
    "train_act.head()"
   ]
  },
  {
   "cell_type": "code",
   "execution_count": 7,
   "metadata": {},
   "outputs": [],
   "source": [
    "train_pay = pd.read_csv(\"sample1_train_payment.csv\",header=None)"
   ]
  },
  {
   "cell_type": "code",
   "execution_count": 13,
   "metadata": {},
   "outputs": [],
   "source": [
    "train_pay.columns = ['week','id','payment']"
   ]
  },
  {
   "cell_type": "code",
   "execution_count": 14,
   "metadata": {},
   "outputs": [
    {
     "data": {
      "text/html": [
       "<div>\n",
       "<style scoped>\n",
       "    .dataframe tbody tr th:only-of-type {\n",
       "        vertical-align: middle;\n",
       "    }\n",
       "\n",
       "    .dataframe tbody tr th {\n",
       "        vertical-align: top;\n",
       "    }\n",
       "\n",
       "    .dataframe thead th {\n",
       "        text-align: right;\n",
       "    }\n",
       "</style>\n",
       "<table border=\"1\" class=\"dataframe\">\n",
       "  <thead>\n",
       "    <tr style=\"text-align: right;\">\n",
       "      <th></th>\n",
       "      <th>week</th>\n",
       "      <th>id</th>\n",
       "      <th>payment</th>\n",
       "    </tr>\n",
       "  </thead>\n",
       "  <tbody>\n",
       "    <tr>\n",
       "      <th>0</th>\n",
       "      <td>1</td>\n",
       "      <td>7ab9927559d86f8f5f015a8bfe7ffeaa8f4685bff86a76...</td>\n",
       "      <td>-0.149898</td>\n",
       "    </tr>\n",
       "    <tr>\n",
       "      <th>1</th>\n",
       "      <td>2</td>\n",
       "      <td>7ab9927559d86f8f5f015a8bfe7ffeaa8f4685bff86a76...</td>\n",
       "      <td>-0.149898</td>\n",
       "    </tr>\n",
       "    <tr>\n",
       "      <th>2</th>\n",
       "      <td>3</td>\n",
       "      <td>7ab9927559d86f8f5f015a8bfe7ffeaa8f4685bff86a76...</td>\n",
       "      <td>-0.149898</td>\n",
       "    </tr>\n",
       "    <tr>\n",
       "      <th>3</th>\n",
       "      <td>4</td>\n",
       "      <td>7ab9927559d86f8f5f015a8bfe7ffeaa8f4685bff86a76...</td>\n",
       "      <td>-0.149898</td>\n",
       "    </tr>\n",
       "    <tr>\n",
       "      <th>4</th>\n",
       "      <td>5</td>\n",
       "      <td>7ab9927559d86f8f5f015a8bfe7ffeaa8f4685bff86a76...</td>\n",
       "      <td>-0.149898</td>\n",
       "    </tr>\n",
       "  </tbody>\n",
       "</table>\n",
       "</div>"
      ],
      "text/plain": [
       "   week                                                 id   payment\n",
       "0     1  7ab9927559d86f8f5f015a8bfe7ffeaa8f4685bff86a76... -0.149898\n",
       "1     2  7ab9927559d86f8f5f015a8bfe7ffeaa8f4685bff86a76... -0.149898\n",
       "2     3  7ab9927559d86f8f5f015a8bfe7ffeaa8f4685bff86a76... -0.149898\n",
       "3     4  7ab9927559d86f8f5f015a8bfe7ffeaa8f4685bff86a76... -0.149898\n",
       "4     5  7ab9927559d86f8f5f015a8bfe7ffeaa8f4685bff86a76... -0.149898"
      ]
     },
     "execution_count": 14,
     "metadata": {},
     "output_type": "execute_result"
    }
   ],
   "source": [
    "train_pay.head()"
   ]
  },
  {
   "cell_type": "code",
   "execution_count": 10,
   "metadata": {},
   "outputs": [],
   "source": [
    "train = pd.read_csv(\"sample1_train_label.csv\",header=None)"
   ]
  },
  {
   "cell_type": "code",
   "execution_count": 11,
   "metadata": {},
   "outputs": [
    {
     "data": {
      "text/html": [
       "<div>\n",
       "<style scoped>\n",
       "    .dataframe tbody tr th:only-of-type {\n",
       "        vertical-align: middle;\n",
       "    }\n",
       "\n",
       "    .dataframe tbody tr th {\n",
       "        vertical-align: top;\n",
       "    }\n",
       "\n",
       "    .dataframe thead th {\n",
       "        text-align: right;\n",
       "    }\n",
       "</style>\n",
       "<table border=\"1\" class=\"dataframe\">\n",
       "  <thead>\n",
       "    <tr style=\"text-align: right;\">\n",
       "      <th></th>\n",
       "      <th>0</th>\n",
       "      <th>1</th>\n",
       "      <th>2</th>\n",
       "    </tr>\n",
       "  </thead>\n",
       "  <tbody>\n",
       "    <tr>\n",
       "      <th>0</th>\n",
       "      <td>NaN</td>\n",
       "      <td>acc_id</td>\n",
       "      <td>label</td>\n",
       "    </tr>\n",
       "    <tr>\n",
       "      <th>1</th>\n",
       "      <td>23461.0</td>\n",
       "      <td>7e76cf769e7f8b635f265931ae609bc4e95bf654c3f4e8...</td>\n",
       "      <td>week</td>\n",
       "    </tr>\n",
       "    <tr>\n",
       "      <th>2</th>\n",
       "      <td>89624.0</td>\n",
       "      <td>df3171d720acc39427e4cc3c0baa1fdbe894138c3e3471...</td>\n",
       "      <td>retained</td>\n",
       "    </tr>\n",
       "    <tr>\n",
       "      <th>3</th>\n",
       "      <td>33676.0</td>\n",
       "      <td>c4b3035dabcfa3cdfce268a88f97c7ebac50cc1235f155...</td>\n",
       "      <td>month</td>\n",
       "    </tr>\n",
       "    <tr>\n",
       "      <th>4</th>\n",
       "      <td>1271.0</td>\n",
       "      <td>41eb6789742f1d69cf1e881eb53024602ba1d84584e231...</td>\n",
       "      <td>week</td>\n",
       "    </tr>\n",
       "  </tbody>\n",
       "</table>\n",
       "</div>"
      ],
      "text/plain": [
       "         0                                                  1         2\n",
       "0      NaN                                             acc_id     label\n",
       "1  23461.0  7e76cf769e7f8b635f265931ae609bc4e95bf654c3f4e8...      week\n",
       "2  89624.0  df3171d720acc39427e4cc3c0baa1fdbe894138c3e3471...  retained\n",
       "3  33676.0  c4b3035dabcfa3cdfce268a88f97c7ebac50cc1235f155...     month\n",
       "4   1271.0  41eb6789742f1d69cf1e881eb53024602ba1d84584e231...      week"
      ]
     },
     "execution_count": 11,
     "metadata": {},
     "output_type": "execute_result"
    }
   ],
   "source": [
    "train.head()"
   ]
  },
  {
   "cell_type": "code",
   "execution_count": 15,
   "metadata": {},
   "outputs": [],
   "source": [
    "train['payment'] = train_pay['payment']"
   ]
  },
  {
   "cell_type": "code",
   "execution_count": 16,
   "metadata": {},
   "outputs": [
    {
     "data": {
      "text/html": [
       "<div>\n",
       "<style scoped>\n",
       "    .dataframe tbody tr th:only-of-type {\n",
       "        vertical-align: middle;\n",
       "    }\n",
       "\n",
       "    .dataframe tbody tr th {\n",
       "        vertical-align: top;\n",
       "    }\n",
       "\n",
       "    .dataframe thead th {\n",
       "        text-align: right;\n",
       "    }\n",
       "</style>\n",
       "<table border=\"1\" class=\"dataframe\">\n",
       "  <thead>\n",
       "    <tr style=\"text-align: right;\">\n",
       "      <th></th>\n",
       "      <th>0</th>\n",
       "      <th>1</th>\n",
       "      <th>2</th>\n",
       "      <th>payment</th>\n",
       "    </tr>\n",
       "  </thead>\n",
       "  <tbody>\n",
       "    <tr>\n",
       "      <th>0</th>\n",
       "      <td>NaN</td>\n",
       "      <td>acc_id</td>\n",
       "      <td>label</td>\n",
       "      <td>-0.149898</td>\n",
       "    </tr>\n",
       "    <tr>\n",
       "      <th>1</th>\n",
       "      <td>23461.0</td>\n",
       "      <td>7e76cf769e7f8b635f265931ae609bc4e95bf654c3f4e8...</td>\n",
       "      <td>week</td>\n",
       "      <td>-0.149898</td>\n",
       "    </tr>\n",
       "    <tr>\n",
       "      <th>2</th>\n",
       "      <td>89624.0</td>\n",
       "      <td>df3171d720acc39427e4cc3c0baa1fdbe894138c3e3471...</td>\n",
       "      <td>retained</td>\n",
       "      <td>-0.149898</td>\n",
       "    </tr>\n",
       "    <tr>\n",
       "      <th>3</th>\n",
       "      <td>33676.0</td>\n",
       "      <td>c4b3035dabcfa3cdfce268a88f97c7ebac50cc1235f155...</td>\n",
       "      <td>month</td>\n",
       "      <td>-0.149898</td>\n",
       "    </tr>\n",
       "    <tr>\n",
       "      <th>4</th>\n",
       "      <td>1271.0</td>\n",
       "      <td>41eb6789742f1d69cf1e881eb53024602ba1d84584e231...</td>\n",
       "      <td>week</td>\n",
       "      <td>-0.149898</td>\n",
       "    </tr>\n",
       "  </tbody>\n",
       "</table>\n",
       "</div>"
      ],
      "text/plain": [
       "         0                                                  1         2  \\\n",
       "0      NaN                                             acc_id     label   \n",
       "1  23461.0  7e76cf769e7f8b635f265931ae609bc4e95bf654c3f4e8...      week   \n",
       "2  89624.0  df3171d720acc39427e4cc3c0baa1fdbe894138c3e3471...  retained   \n",
       "3  33676.0  c4b3035dabcfa3cdfce268a88f97c7ebac50cc1235f155...     month   \n",
       "4   1271.0  41eb6789742f1d69cf1e881eb53024602ba1d84584e231...      week   \n",
       "\n",
       "    payment  \n",
       "0 -0.149898  \n",
       "1 -0.149898  \n",
       "2 -0.149898  \n",
       "3 -0.149898  \n",
       "4 -0.149898  "
      ]
     },
     "execution_count": 16,
     "metadata": {},
     "output_type": "execute_result"
    }
   ],
   "source": [
    "train.head()"
   ]
  },
  {
   "cell_type": "markdown",
   "metadata": {},
   "source": [
    "==================================================================================================="
   ]
  },
  {
   "cell_type": "markdown",
   "metadata": {},
   "source": [
    "# 전처리"
   ]
  },
  {
   "cell_type": "markdown",
   "metadata": {},
   "source": [
    "## Binning"
   ]
  },
  {
   "cell_type": "code",
   "execution_count": null,
   "metadata": {},
   "outputs": [],
   "source": []
  },
  {
   "cell_type": "markdown",
   "metadata": {},
   "source": [
    "## One-hot-encoding"
   ]
  },
  {
   "cell_type": "code",
   "execution_count": null,
   "metadata": {},
   "outputs": [],
   "source": []
  },
  {
   "cell_type": "markdown",
   "metadata": {},
   "source": [
    "================================================================================================"
   ]
  },
  {
   "cell_type": "markdown",
   "metadata": {},
   "source": [
    "# 알고리즘 학습"
   ]
  },
  {
   "cell_type": "markdown",
   "metadata": {},
   "source": [
    "## 학습 세트, 테스트 세트 나누기"
   ]
  },
  {
   "cell_type": "code",
   "execution_count": 17,
   "metadata": {},
   "outputs": [],
   "source": [
    "df = train.reindex()"
   ]
  },
  {
   "cell_type": "code",
   "execution_count": 18,
   "metadata": {},
   "outputs": [
    {
     "data": {
      "text/plain": [
       "700"
      ]
     },
     "execution_count": 18,
     "metadata": {},
     "output_type": "execute_result"
    }
   ],
   "source": [
    "split_count = int(df.shape[0] * 0.7)\n",
    "split_count"
   ]
  },
  {
   "cell_type": "code",
   "execution_count": 19,
   "metadata": {},
   "outputs": [
    {
     "data": {
      "text/plain": [
       "(700, 4)"
      ]
     },
     "execution_count": 19,
     "metadata": {},
     "output_type": "execute_result"
    }
   ],
   "source": [
    "train = df[:split_count].copy()\n",
    "train.shape"
   ]
  },
  {
   "cell_type": "markdown",
   "metadata": {},
   "source": [
    "## Random forest 예측"
   ]
  },
  {
   "cell_type": "code",
   "execution_count": 20,
   "metadata": {},
   "outputs": [
    {
     "data": {
      "text/plain": [
       "RandomForestClassifier(bootstrap=True, class_weight=None, criterion='gini',\n",
       "            max_depth=None, max_features='auto', max_leaf_nodes=None,\n",
       "            min_impurity_decrease=0.0, min_impurity_split=None,\n",
       "            min_samples_leaf=1, min_samples_split=2,\n",
       "            min_weight_fraction_leaf=0.0, n_estimators=100, n_jobs=-1,\n",
       "            oob_score=False, random_state=2018, verbose=0,\n",
       "            warm_start=False)"
      ]
     },
     "execution_count": 20,
     "metadata": {},
     "output_type": "execute_result"
    }
   ],
   "source": [
    "from sklearn.ensemble import RandomForestClassifier\n",
    "\n",
    "# 랜덤포레스트 분류기를 사용\n",
    "forest = RandomForestClassifier(\n",
    "    n_estimators = 100, n_jobs = -1, random_state=2018)\n",
    "forest"
   ]
  },
  {
   "cell_type": "code",
   "execution_count": null,
   "metadata": {},
   "outputs": [],
   "source": [
    "train_feature_tfidf = "
   ]
  },
  {
   "cell_type": "code",
   "execution_count": null,
   "metadata": {},
   "outputs": [],
   "source": [
    "# 학습에 사용할 y_label 을 넣어줍니다.\n",
    "# 어떤 분야의 청원인지 예측할 것이기 때문에 category를 넣어줍니다.\n",
    "y_label = train['label']\n",
    "%time forest = forest.fit(train_feature_tfidf, y_label)"
   ]
  },
  {
   "cell_type": "markdown",
   "metadata": {},
   "source": [
    "## Random forest 평가"
   ]
  },
  {
   "cell_type": "code",
   "execution_count": null,
   "metadata": {},
   "outputs": [],
   "source": [
    "from sklearn.model_selection import KFold\n",
    "from sklearn.model_selection import cross_val_score\n",
    "k_fold = KFold(n_splits=5, shuffle=True, random_state=0)\n",
    "\n",
    "scoring = 'accuracy'\n",
    "%time score = cross_val_score(forest, train_feature_vector, y_label, cv=k_fold, n_jobs=-1, scoring=scoring)\n",
    "score"
   ]
  },
  {
   "cell_type": "code",
   "execution_count": null,
   "metadata": {},
   "outputs": [],
   "source": [
    "round(np.mean(score)*100,2)"
   ]
  },
  {
   "cell_type": "markdown",
   "metadata": {},
   "source": [
    "=================================================================================="
   ]
  },
  {
   "cell_type": "markdown",
   "metadata": {},
   "source": [
    "# 파일 출력"
   ]
  },
  {
   "cell_type": "code",
   "execution_count": null,
   "metadata": {},
   "outputs": [],
   "source": [
    "import csv\n",
    "row_num = df2.shape[0]\n",
    "f = open('C://dataitgirls/final_data_rev/train/sample1_train_trade.csv','w',newline='')\n",
    "def make_result(data):\n",
    "    \n",
    "    csvWriter = csv.writer(f)\n",
    "    csvWriter.writerow(data)\n",
    "\n",
    "f.close()"
   ]
  }
 ],
 "metadata": {
  "kernelspec": {
   "display_name": "Python 3",
   "language": "python",
   "name": "python3"
  },
  "language_info": {
   "codemirror_mode": {
    "name": "ipython",
    "version": 3
   },
   "file_extension": ".py",
   "mimetype": "text/x-python",
   "name": "python",
   "nbconvert_exporter": "python",
   "pygments_lexer": "ipython3",
   "version": "3.6.5"
  }
 },
 "nbformat": 4,
 "nbformat_minor": 2
}
