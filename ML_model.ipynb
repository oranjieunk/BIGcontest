{
 "cells": [
  {
   "cell_type": "code",
   "execution_count": 171,
   "metadata": {},
   "outputs": [],
   "source": [
    "import pandas as pd\n",
    "import numpy as np\n",
    "from plotnine import *"
   ]
  },
  {
   "cell_type": "markdown",
   "metadata": {},
   "source": [
    "# 파일 입력"
   ]
  },
  {
   "cell_type": "code",
   "execution_count": 172,
   "metadata": {},
   "outputs": [],
   "source": [
    "train_act = pd.read_csv(\"sample1_train_activity.csv\",header=0)"
   ]
  },
  {
   "cell_type": "code",
   "execution_count": 173,
   "metadata": {
    "scrolled": true
   },
   "outputs": [
    {
     "data": {
      "text/html": [
       "<div>\n",
       "<style scoped>\n",
       "    .dataframe tbody tr th:only-of-type {\n",
       "        vertical-align: middle;\n",
       "    }\n",
       "\n",
       "    .dataframe tbody tr th {\n",
       "        vertical-align: top;\n",
       "    }\n",
       "\n",
       "    .dataframe thead th {\n",
       "        text-align: right;\n",
       "    }\n",
       "</style>\n",
       "<table border=\"1\" class=\"dataframe\">\n",
       "  <thead>\n",
       "    <tr style=\"text-align: right;\">\n",
       "      <th></th>\n",
       "      <th>wk</th>\n",
       "      <th>acc_id</th>\n",
       "      <th>cnt_dt</th>\n",
       "      <th>play_time</th>\n",
       "      <th>npc_exp</th>\n",
       "      <th>npc_hongmun</th>\n",
       "      <th>quest_exp</th>\n",
       "      <th>quest_hongmun</th>\n",
       "      <th>item_hongmun</th>\n",
       "      <th>game_combat_time</th>\n",
       "      <th>...</th>\n",
       "      <th>cnt_clear_bam</th>\n",
       "      <th>normal_chat</th>\n",
       "      <th>whisper_chat</th>\n",
       "      <th>district_chat</th>\n",
       "      <th>party_chat</th>\n",
       "      <th>guild_chat</th>\n",
       "      <th>faction_chat</th>\n",
       "      <th>cnt_use_buffitem</th>\n",
       "      <th>gathering_cnt</th>\n",
       "      <th>making_cnt</th>\n",
       "    </tr>\n",
       "  </thead>\n",
       "  <tbody>\n",
       "    <tr>\n",
       "      <th>0</th>\n",
       "      <td>1</td>\n",
       "      <td>7ab9927559d86f8f5f015a8bfe7ffeaa8f4685bff86a76...</td>\n",
       "      <td>5</td>\n",
       "      <td>-0.653171</td>\n",
       "      <td>-0.231874</td>\n",
       "      <td>-0.290803</td>\n",
       "      <td>-0.250423</td>\n",
       "      <td>-0.487666</td>\n",
       "      <td>-0.306354</td>\n",
       "      <td>-0.569842</td>\n",
       "      <td>...</td>\n",
       "      <td>-0.03313</td>\n",
       "      <td>-0.034038</td>\n",
       "      <td>-0.231827</td>\n",
       "      <td>-0.016574</td>\n",
       "      <td>-0.275174</td>\n",
       "      <td>-0.343293</td>\n",
       "      <td>-0.024028</td>\n",
       "      <td>-0.503692</td>\n",
       "      <td>-0.027758</td>\n",
       "      <td>-0.365536</td>\n",
       "    </tr>\n",
       "    <tr>\n",
       "      <th>1</th>\n",
       "      <td>2</td>\n",
       "      <td>7ab9927559d86f8f5f015a8bfe7ffeaa8f4685bff86a76...</td>\n",
       "      <td>1</td>\n",
       "      <td>-0.660461</td>\n",
       "      <td>-0.231874</td>\n",
       "      <td>-0.290803</td>\n",
       "      <td>-0.250423</td>\n",
       "      <td>-0.487666</td>\n",
       "      <td>-0.306354</td>\n",
       "      <td>-0.569842</td>\n",
       "      <td>...</td>\n",
       "      <td>-0.03313</td>\n",
       "      <td>-0.034038</td>\n",
       "      <td>-0.231827</td>\n",
       "      <td>-0.016574</td>\n",
       "      <td>-0.275174</td>\n",
       "      <td>-0.343293</td>\n",
       "      <td>-0.024028</td>\n",
       "      <td>-0.503692</td>\n",
       "      <td>-0.027758</td>\n",
       "      <td>-0.365536</td>\n",
       "    </tr>\n",
       "    <tr>\n",
       "      <th>2</th>\n",
       "      <td>3</td>\n",
       "      <td>7ab9927559d86f8f5f015a8bfe7ffeaa8f4685bff86a76...</td>\n",
       "      <td>6</td>\n",
       "      <td>-0.654467</td>\n",
       "      <td>-0.231874</td>\n",
       "      <td>-0.290803</td>\n",
       "      <td>-0.250423</td>\n",
       "      <td>-0.487666</td>\n",
       "      <td>-0.306354</td>\n",
       "      <td>-0.569842</td>\n",
       "      <td>...</td>\n",
       "      <td>-0.03313</td>\n",
       "      <td>-0.034038</td>\n",
       "      <td>-0.231827</td>\n",
       "      <td>-0.016574</td>\n",
       "      <td>-0.275174</td>\n",
       "      <td>-0.343293</td>\n",
       "      <td>-0.024028</td>\n",
       "      <td>-0.503692</td>\n",
       "      <td>-0.027758</td>\n",
       "      <td>-0.365536</td>\n",
       "    </tr>\n",
       "    <tr>\n",
       "      <th>3</th>\n",
       "      <td>4</td>\n",
       "      <td>7ab9927559d86f8f5f015a8bfe7ffeaa8f4685bff86a76...</td>\n",
       "      <td>7</td>\n",
       "      <td>-0.652113</td>\n",
       "      <td>-0.231874</td>\n",
       "      <td>-0.290803</td>\n",
       "      <td>-0.250423</td>\n",
       "      <td>-0.487666</td>\n",
       "      <td>-0.306354</td>\n",
       "      <td>-0.569842</td>\n",
       "      <td>...</td>\n",
       "      <td>-0.03313</td>\n",
       "      <td>-0.034038</td>\n",
       "      <td>-0.231827</td>\n",
       "      <td>-0.016574</td>\n",
       "      <td>-0.275174</td>\n",
       "      <td>-0.343293</td>\n",
       "      <td>-0.024028</td>\n",
       "      <td>-0.503692</td>\n",
       "      <td>-0.027758</td>\n",
       "      <td>-0.365536</td>\n",
       "    </tr>\n",
       "    <tr>\n",
       "      <th>4</th>\n",
       "      <td>5</td>\n",
       "      <td>7ab9927559d86f8f5f015a8bfe7ffeaa8f4685bff86a76...</td>\n",
       "      <td>7</td>\n",
       "      <td>-0.651945</td>\n",
       "      <td>-0.231874</td>\n",
       "      <td>-0.290803</td>\n",
       "      <td>-0.250423</td>\n",
       "      <td>-0.487666</td>\n",
       "      <td>-0.306354</td>\n",
       "      <td>-0.569842</td>\n",
       "      <td>...</td>\n",
       "      <td>-0.03313</td>\n",
       "      <td>-0.034038</td>\n",
       "      <td>-0.231827</td>\n",
       "      <td>-0.016574</td>\n",
       "      <td>-0.275174</td>\n",
       "      <td>-0.343293</td>\n",
       "      <td>-0.024028</td>\n",
       "      <td>-0.503692</td>\n",
       "      <td>-0.027758</td>\n",
       "      <td>-0.365536</td>\n",
       "    </tr>\n",
       "  </tbody>\n",
       "</table>\n",
       "<p>5 rows × 38 columns</p>\n",
       "</div>"
      ],
      "text/plain": [
       "   wk                                             acc_id  cnt_dt  play_time  \\\n",
       "0   1  7ab9927559d86f8f5f015a8bfe7ffeaa8f4685bff86a76...       5  -0.653171   \n",
       "1   2  7ab9927559d86f8f5f015a8bfe7ffeaa8f4685bff86a76...       1  -0.660461   \n",
       "2   3  7ab9927559d86f8f5f015a8bfe7ffeaa8f4685bff86a76...       6  -0.654467   \n",
       "3   4  7ab9927559d86f8f5f015a8bfe7ffeaa8f4685bff86a76...       7  -0.652113   \n",
       "4   5  7ab9927559d86f8f5f015a8bfe7ffeaa8f4685bff86a76...       7  -0.651945   \n",
       "\n",
       "    npc_exp  npc_hongmun  quest_exp  quest_hongmun  item_hongmun  \\\n",
       "0 -0.231874    -0.290803  -0.250423      -0.487666     -0.306354   \n",
       "1 -0.231874    -0.290803  -0.250423      -0.487666     -0.306354   \n",
       "2 -0.231874    -0.290803  -0.250423      -0.487666     -0.306354   \n",
       "3 -0.231874    -0.290803  -0.250423      -0.487666     -0.306354   \n",
       "4 -0.231874    -0.290803  -0.250423      -0.487666     -0.306354   \n",
       "\n",
       "   game_combat_time     ...      cnt_clear_bam  normal_chat  whisper_chat  \\\n",
       "0         -0.569842     ...           -0.03313    -0.034038     -0.231827   \n",
       "1         -0.569842     ...           -0.03313    -0.034038     -0.231827   \n",
       "2         -0.569842     ...           -0.03313    -0.034038     -0.231827   \n",
       "3         -0.569842     ...           -0.03313    -0.034038     -0.231827   \n",
       "4         -0.569842     ...           -0.03313    -0.034038     -0.231827   \n",
       "\n",
       "   district_chat  party_chat  guild_chat  faction_chat  cnt_use_buffitem  \\\n",
       "0      -0.016574   -0.275174   -0.343293     -0.024028         -0.503692   \n",
       "1      -0.016574   -0.275174   -0.343293     -0.024028         -0.503692   \n",
       "2      -0.016574   -0.275174   -0.343293     -0.024028         -0.503692   \n",
       "3      -0.016574   -0.275174   -0.343293     -0.024028         -0.503692   \n",
       "4      -0.016574   -0.275174   -0.343293     -0.024028         -0.503692   \n",
       "\n",
       "   gathering_cnt  making_cnt  \n",
       "0      -0.027758   -0.365536  \n",
       "1      -0.027758   -0.365536  \n",
       "2      -0.027758   -0.365536  \n",
       "3      -0.027758   -0.365536  \n",
       "4      -0.027758   -0.365536  \n",
       "\n",
       "[5 rows x 38 columns]"
      ]
     },
     "execution_count": 173,
     "metadata": {},
     "output_type": "execute_result"
    }
   ],
   "source": [
    "train_act.head()"
   ]
  },
  {
   "cell_type": "code",
   "execution_count": 174,
   "metadata": {},
   "outputs": [],
   "source": [
    "train_pay = pd.read_csv(\"sample1_train_payment.csv\",header=0)"
   ]
  },
  {
   "cell_type": "code",
   "execution_count": 175,
   "metadata": {},
   "outputs": [
    {
     "data": {
      "text/html": [
       "<div>\n",
       "<style scoped>\n",
       "    .dataframe tbody tr th:only-of-type {\n",
       "        vertical-align: middle;\n",
       "    }\n",
       "\n",
       "    .dataframe tbody tr th {\n",
       "        vertical-align: top;\n",
       "    }\n",
       "\n",
       "    .dataframe thead th {\n",
       "        text-align: right;\n",
       "    }\n",
       "</style>\n",
       "<table border=\"1\" class=\"dataframe\">\n",
       "  <thead>\n",
       "    <tr style=\"text-align: right;\">\n",
       "      <th></th>\n",
       "      <th>payment_week</th>\n",
       "      <th>acc_id</th>\n",
       "      <th>payment_amount</th>\n",
       "    </tr>\n",
       "  </thead>\n",
       "  <tbody>\n",
       "    <tr>\n",
       "      <th>0</th>\n",
       "      <td>1</td>\n",
       "      <td>7ab9927559d86f8f5f015a8bfe7ffeaa8f4685bff86a76...</td>\n",
       "      <td>-0.149898</td>\n",
       "    </tr>\n",
       "    <tr>\n",
       "      <th>1</th>\n",
       "      <td>2</td>\n",
       "      <td>7ab9927559d86f8f5f015a8bfe7ffeaa8f4685bff86a76...</td>\n",
       "      <td>-0.149898</td>\n",
       "    </tr>\n",
       "    <tr>\n",
       "      <th>2</th>\n",
       "      <td>3</td>\n",
       "      <td>7ab9927559d86f8f5f015a8bfe7ffeaa8f4685bff86a76...</td>\n",
       "      <td>-0.149898</td>\n",
       "    </tr>\n",
       "    <tr>\n",
       "      <th>3</th>\n",
       "      <td>4</td>\n",
       "      <td>7ab9927559d86f8f5f015a8bfe7ffeaa8f4685bff86a76...</td>\n",
       "      <td>-0.149898</td>\n",
       "    </tr>\n",
       "    <tr>\n",
       "      <th>4</th>\n",
       "      <td>5</td>\n",
       "      <td>7ab9927559d86f8f5f015a8bfe7ffeaa8f4685bff86a76...</td>\n",
       "      <td>-0.149898</td>\n",
       "    </tr>\n",
       "  </tbody>\n",
       "</table>\n",
       "</div>"
      ],
      "text/plain": [
       "   payment_week                                             acc_id  \\\n",
       "0             1  7ab9927559d86f8f5f015a8bfe7ffeaa8f4685bff86a76...   \n",
       "1             2  7ab9927559d86f8f5f015a8bfe7ffeaa8f4685bff86a76...   \n",
       "2             3  7ab9927559d86f8f5f015a8bfe7ffeaa8f4685bff86a76...   \n",
       "3             4  7ab9927559d86f8f5f015a8bfe7ffeaa8f4685bff86a76...   \n",
       "4             5  7ab9927559d86f8f5f015a8bfe7ffeaa8f4685bff86a76...   \n",
       "\n",
       "   payment_amount  \n",
       "0       -0.149898  \n",
       "1       -0.149898  \n",
       "2       -0.149898  \n",
       "3       -0.149898  \n",
       "4       -0.149898  "
      ]
     },
     "execution_count": 175,
     "metadata": {},
     "output_type": "execute_result"
    }
   ],
   "source": [
    "train_pay.head()"
   ]
  },
  {
   "cell_type": "code",
   "execution_count": 176,
   "metadata": {},
   "outputs": [],
   "source": [
    "train = pd.read_csv(\"sample1_train_label.csv\",header=0)"
   ]
  },
  {
   "cell_type": "code",
   "execution_count": 177,
   "metadata": {},
   "outputs": [
    {
     "data": {
      "text/html": [
       "<div>\n",
       "<style scoped>\n",
       "    .dataframe tbody tr th:only-of-type {\n",
       "        vertical-align: middle;\n",
       "    }\n",
       "\n",
       "    .dataframe tbody tr th {\n",
       "        vertical-align: top;\n",
       "    }\n",
       "\n",
       "    .dataframe thead th {\n",
       "        text-align: right;\n",
       "    }\n",
       "</style>\n",
       "<table border=\"1\" class=\"dataframe\">\n",
       "  <thead>\n",
       "    <tr style=\"text-align: right;\">\n",
       "      <th></th>\n",
       "      <th>acc_id</th>\n",
       "      <th>label</th>\n",
       "    </tr>\n",
       "  </thead>\n",
       "  <tbody>\n",
       "    <tr>\n",
       "      <th>0</th>\n",
       "      <td>7e76cf769e7f8b635f265931ae609bc4e95bf654c3f4e8...</td>\n",
       "      <td>week</td>\n",
       "    </tr>\n",
       "    <tr>\n",
       "      <th>1</th>\n",
       "      <td>df3171d720acc39427e4cc3c0baa1fdbe894138c3e3471...</td>\n",
       "      <td>retained</td>\n",
       "    </tr>\n",
       "    <tr>\n",
       "      <th>2</th>\n",
       "      <td>c4b3035dabcfa3cdfce268a88f97c7ebac50cc1235f155...</td>\n",
       "      <td>month</td>\n",
       "    </tr>\n",
       "    <tr>\n",
       "      <th>3</th>\n",
       "      <td>41eb6789742f1d69cf1e881eb53024602ba1d84584e231...</td>\n",
       "      <td>week</td>\n",
       "    </tr>\n",
       "    <tr>\n",
       "      <th>4</th>\n",
       "      <td>4b69195985218d7fc9d0a726438b0ef3ecbcd8eba0f64b...</td>\n",
       "      <td>week</td>\n",
       "    </tr>\n",
       "  </tbody>\n",
       "</table>\n",
       "</div>"
      ],
      "text/plain": [
       "                                              acc_id     label\n",
       "0  7e76cf769e7f8b635f265931ae609bc4e95bf654c3f4e8...      week\n",
       "1  df3171d720acc39427e4cc3c0baa1fdbe894138c3e3471...  retained\n",
       "2  c4b3035dabcfa3cdfce268a88f97c7ebac50cc1235f155...     month\n",
       "3  41eb6789742f1d69cf1e881eb53024602ba1d84584e231...      week\n",
       "4  4b69195985218d7fc9d0a726438b0ef3ecbcd8eba0f64b...      week"
      ]
     },
     "execution_count": 177,
     "metadata": {},
     "output_type": "execute_result"
    }
   ],
   "source": [
    "train.head()"
   ]
  },
  {
   "cell_type": "code",
   "execution_count": 178,
   "metadata": {},
   "outputs": [],
   "source": [
    "# dataframe에 column 추가하기\n",
    "train['payment_amount'] = train_pay['payment_amount']"
   ]
  },
  {
   "cell_type": "code",
   "execution_count": 179,
   "metadata": {},
   "outputs": [
    {
     "data": {
      "text/html": [
       "<div>\n",
       "<style scoped>\n",
       "    .dataframe tbody tr th:only-of-type {\n",
       "        vertical-align: middle;\n",
       "    }\n",
       "\n",
       "    .dataframe tbody tr th {\n",
       "        vertical-align: top;\n",
       "    }\n",
       "\n",
       "    .dataframe thead th {\n",
       "        text-align: right;\n",
       "    }\n",
       "</style>\n",
       "<table border=\"1\" class=\"dataframe\">\n",
       "  <thead>\n",
       "    <tr style=\"text-align: right;\">\n",
       "      <th></th>\n",
       "      <th>acc_id</th>\n",
       "      <th>label</th>\n",
       "      <th>payment_amount</th>\n",
       "    </tr>\n",
       "  </thead>\n",
       "  <tbody>\n",
       "    <tr>\n",
       "      <th>0</th>\n",
       "      <td>7e76cf769e7f8b635f265931ae609bc4e95bf654c3f4e8...</td>\n",
       "      <td>week</td>\n",
       "      <td>-0.149898</td>\n",
       "    </tr>\n",
       "    <tr>\n",
       "      <th>1</th>\n",
       "      <td>df3171d720acc39427e4cc3c0baa1fdbe894138c3e3471...</td>\n",
       "      <td>retained</td>\n",
       "      <td>-0.149898</td>\n",
       "    </tr>\n",
       "    <tr>\n",
       "      <th>2</th>\n",
       "      <td>c4b3035dabcfa3cdfce268a88f97c7ebac50cc1235f155...</td>\n",
       "      <td>month</td>\n",
       "      <td>-0.149898</td>\n",
       "    </tr>\n",
       "    <tr>\n",
       "      <th>3</th>\n",
       "      <td>41eb6789742f1d69cf1e881eb53024602ba1d84584e231...</td>\n",
       "      <td>week</td>\n",
       "      <td>-0.149898</td>\n",
       "    </tr>\n",
       "    <tr>\n",
       "      <th>4</th>\n",
       "      <td>4b69195985218d7fc9d0a726438b0ef3ecbcd8eba0f64b...</td>\n",
       "      <td>week</td>\n",
       "      <td>-0.149898</td>\n",
       "    </tr>\n",
       "  </tbody>\n",
       "</table>\n",
       "</div>"
      ],
      "text/plain": [
       "                                              acc_id     label  payment_amount\n",
       "0  7e76cf769e7f8b635f265931ae609bc4e95bf654c3f4e8...      week       -0.149898\n",
       "1  df3171d720acc39427e4cc3c0baa1fdbe894138c3e3471...  retained       -0.149898\n",
       "2  c4b3035dabcfa3cdfce268a88f97c7ebac50cc1235f155...     month       -0.149898\n",
       "3  41eb6789742f1d69cf1e881eb53024602ba1d84584e231...      week       -0.149898\n",
       "4  4b69195985218d7fc9d0a726438b0ef3ecbcd8eba0f64b...      week       -0.149898"
      ]
     },
     "execution_count": 179,
     "metadata": {},
     "output_type": "execute_result"
    }
   ],
   "source": [
    "train.head()"
   ]
  },
  {
   "cell_type": "code",
   "execution_count": 181,
   "metadata": {},
   "outputs": [],
   "source": [
    "# 필요없는 column 삭제하기\n",
    "try:\n",
    "    train = train.drop(columns='payment')\n",
    "except KeyError:\n",
    "    pass"
   ]
  },
  {
   "cell_type": "code",
   "execution_count": 182,
   "metadata": {
    "scrolled": false
   },
   "outputs": [
    {
     "data": {
      "text/html": [
       "<div>\n",
       "<style scoped>\n",
       "    .dataframe tbody tr th:only-of-type {\n",
       "        vertical-align: middle;\n",
       "    }\n",
       "\n",
       "    .dataframe tbody tr th {\n",
       "        vertical-align: top;\n",
       "    }\n",
       "\n",
       "    .dataframe thead th {\n",
       "        text-align: right;\n",
       "    }\n",
       "</style>\n",
       "<table border=\"1\" class=\"dataframe\">\n",
       "  <thead>\n",
       "    <tr style=\"text-align: right;\">\n",
       "      <th></th>\n",
       "      <th>acc_id</th>\n",
       "      <th>label</th>\n",
       "      <th>payment_amount</th>\n",
       "    </tr>\n",
       "  </thead>\n",
       "  <tbody>\n",
       "    <tr>\n",
       "      <th>0</th>\n",
       "      <td>7e76cf769e7f8b635f265931ae609bc4e95bf654c3f4e8...</td>\n",
       "      <td>week</td>\n",
       "      <td>-0.149898</td>\n",
       "    </tr>\n",
       "    <tr>\n",
       "      <th>1</th>\n",
       "      <td>df3171d720acc39427e4cc3c0baa1fdbe894138c3e3471...</td>\n",
       "      <td>retained</td>\n",
       "      <td>-0.149898</td>\n",
       "    </tr>\n",
       "    <tr>\n",
       "      <th>2</th>\n",
       "      <td>c4b3035dabcfa3cdfce268a88f97c7ebac50cc1235f155...</td>\n",
       "      <td>month</td>\n",
       "      <td>-0.149898</td>\n",
       "    </tr>\n",
       "    <tr>\n",
       "      <th>3</th>\n",
       "      <td>41eb6789742f1d69cf1e881eb53024602ba1d84584e231...</td>\n",
       "      <td>week</td>\n",
       "      <td>-0.149898</td>\n",
       "    </tr>\n",
       "    <tr>\n",
       "      <th>4</th>\n",
       "      <td>4b69195985218d7fc9d0a726438b0ef3ecbcd8eba0f64b...</td>\n",
       "      <td>week</td>\n",
       "      <td>-0.149898</td>\n",
       "    </tr>\n",
       "  </tbody>\n",
       "</table>\n",
       "</div>"
      ],
      "text/plain": [
       "                                              acc_id     label  payment_amount\n",
       "0  7e76cf769e7f8b635f265931ae609bc4e95bf654c3f4e8...      week       -0.149898\n",
       "1  df3171d720acc39427e4cc3c0baa1fdbe894138c3e3471...  retained       -0.149898\n",
       "2  c4b3035dabcfa3cdfce268a88f97c7ebac50cc1235f155...     month       -0.149898\n",
       "3  41eb6789742f1d69cf1e881eb53024602ba1d84584e231...      week       -0.149898\n",
       "4  4b69195985218d7fc9d0a726438b0ef3ecbcd8eba0f64b...      week       -0.149898"
      ]
     },
     "execution_count": 182,
     "metadata": {},
     "output_type": "execute_result"
    }
   ],
   "source": [
    "train.head()"
   ]
  },
  {
   "cell_type": "markdown",
   "metadata": {},
   "source": [
    "==================================================================================================="
   ]
  },
  {
   "cell_type": "markdown",
   "metadata": {},
   "source": [
    "# EDA"
   ]
  },
  {
   "cell_type": "code",
   "execution_count": 183,
   "metadata": {},
   "outputs": [
    {
     "data": {
      "text/plain": [
       "Index(['wk', 'acc_id', 'cnt_dt', 'play_time', 'npc_exp', 'npc_hongmun',\n",
       "       'quest_exp', 'quest_hongmun', 'item_hongmun', 'game_combat_time',\n",
       "       'get_money', 'duel_cnt', 'duel_win', 'partybattle_cnt',\n",
       "       'partybattle_win', 'cnt_enter_inzone_solo', 'cnt_enter_inzone_light',\n",
       "       'cnt_enter_inzone_skilled', 'cnt_enter_inzone_normal', 'cnt_enter_raid',\n",
       "       'cnt_enter_raid_light', 'cnt_enter_bam', 'cnt_clear_inzone_solo',\n",
       "       'cnt_clear_inzone_light', 'cnt_clear_inzone_skilled',\n",
       "       'cnt_clear_inzone_normal', 'cnt_clear_raid', 'cnt_clear_raid_light',\n",
       "       'cnt_clear_bam', 'normal_chat', 'whisper_chat', 'district_chat',\n",
       "       'party_chat', 'guild_chat', 'faction_chat', 'cnt_use_buffitem',\n",
       "       'gathering_cnt', 'making_cnt'],\n",
       "      dtype='object')"
      ]
     },
     "execution_count": 183,
     "metadata": {},
     "output_type": "execute_result"
    }
   ],
   "source": [
    "train_act.columns"
   ]
  },
  {
   "cell_type": "code",
   "execution_count": 184,
   "metadata": {
    "scrolled": true
   },
   "outputs": [
    {
     "data": {
      "text/plain": [
       "-0.661479    13\n",
       "-0.661470     4\n",
       "-0.661410     1\n",
       "-0.661390     1\n",
       "-0.661381     3\n",
       "-0.661371     5\n",
       "-0.661311     1\n",
       "-0.661301     1\n",
       "-0.661292     1\n",
       "-0.661282     1\n",
       "-0.661212     1\n",
       "-0.661193     2\n",
       "-0.661183     1\n",
       "-0.661173     1\n",
       "-0.661163     1\n",
       "-0.661133     2\n",
       "-0.661104     1\n",
       "-0.661074     1\n",
       "-0.661064     1\n",
       "-0.661024     1\n",
       "-0.660985     1\n",
       "-0.660975     1\n",
       "-0.660965     1\n",
       "-0.660955     2\n",
       "-0.660945     1\n",
       "-0.660935     3\n",
       "-0.660926     3\n",
       "-0.660906     1\n",
       "-0.660896     1\n",
       "-0.660886     1\n",
       "             ..\n",
       " 4.185969     1\n",
       " 4.197788     1\n",
       " 4.218163     1\n",
       " 4.222851     1\n",
       " 4.235283     1\n",
       " 4.245688     1\n",
       " 4.276359     1\n",
       " 4.279643     1\n",
       " 4.314854     1\n",
       " 4.317762     1\n",
       " 4.324576     1\n",
       " 4.371062     1\n",
       " 4.376918     1\n",
       " 4.404918     1\n",
       " 4.422078     1\n",
       " 4.458812     1\n",
       " 4.485082     1\n",
       " 4.504537     1\n",
       " 4.521796     1\n",
       " 4.624392     1\n",
       " 4.647397     1\n",
       " 4.650078     1\n",
       " 4.711380     1\n",
       " 4.717344     1\n",
       " 4.733772     1\n",
       " 4.752851     1\n",
       " 4.805687     1\n",
       " 5.006438     1\n",
       " 5.064348     1\n",
       " 5.069075     1\n",
       "Name: play_time, Length: 3426, dtype: int64"
      ]
     },
     "execution_count": 184,
     "metadata": {},
     "output_type": "execute_result"
    }
   ],
   "source": [
    "train_act['play_time'].value_counts().sort_index()"
   ]
  },
  {
   "cell_type": "code",
   "execution_count": 185,
   "metadata": {
    "scrolled": true
   },
   "outputs": [
    {
     "data": {
      "text/plain": [
       "-0.047643     4198\n",
       " 5.512386       24\n",
       " 11.072416       9\n",
       " 16.632445       4\n",
       " 22.192475       1\n",
       " 33.312534       1\n",
       "Name: cnt_enter_bam, dtype: int64"
      ]
     },
     "execution_count": 185,
     "metadata": {},
     "output_type": "execute_result"
    }
   ],
   "source": [
    "train_act['cnt_enter_bam'].value_counts().sort_index()"
   ]
  },
  {
   "cell_type": "code",
   "execution_count": 186,
   "metadata": {
    "scrolled": true
   },
   "outputs": [
    {
     "data": {
      "text/plain": [
       "-0.036168     3978\n",
       "-0.014453       31\n",
       " 0.007263       31\n",
       " 0.028978       17\n",
       " 0.050694       17\n",
       " 0.072409       15\n",
       " 0.094125       11\n",
       " 0.115840        8\n",
       " 0.137556        4\n",
       " 0.159272        3\n",
       " 0.180987        2\n",
       " 0.202703        1\n",
       " 0.224418        7\n",
       " 0.246134        4\n",
       " 0.267849        5\n",
       " 0.289565        3\n",
       " 0.311280        1\n",
       " 0.332996        2\n",
       " 0.354711        2\n",
       " 0.376427        5\n",
       " 0.419858        3\n",
       " 0.441573        2\n",
       " 0.463289        3\n",
       " 0.485004        2\n",
       " 0.506720        3\n",
       " 0.528435        4\n",
       " 0.550151        5\n",
       " 0.593582        2\n",
       " 0.637013        1\n",
       " 0.658728        1\n",
       "              ... \n",
       " 1.961659        2\n",
       " 2.026805        1\n",
       " 2.048521        1\n",
       " 2.178814        1\n",
       " 2.330822        1\n",
       " 2.395969        1\n",
       " 2.482831        2\n",
       " 2.526262        1\n",
       " 2.634839        1\n",
       " 2.786848        1\n",
       " 2.808563        1\n",
       " 3.090865        1\n",
       " 3.112580        1\n",
       " 3.416597        1\n",
       " 3.503459        1\n",
       " 3.633752        1\n",
       " 3.850908        1\n",
       " 3.937770        1\n",
       " 4.002916        2\n",
       " 4.133209        1\n",
       " 4.849821        1\n",
       " 4.936683        1\n",
       " 5.197269        1\n",
       " 5.588148        1\n",
       " 5.696726        1\n",
       " 5.783588        1\n",
       " 6.999656        1\n",
       " 7.368820        1\n",
       " 7.564259        1\n",
       " 16.380755       1\n",
       "Name: duel_cnt, Length: 83, dtype: int64"
      ]
     },
     "execution_count": 186,
     "metadata": {},
     "output_type": "execute_result"
    }
   ],
   "source": [
    "train_act['duel_cnt'].value_counts().sort_index()"
   ]
  },
  {
   "cell_type": "code",
   "execution_count": 187,
   "metadata": {},
   "outputs": [
    {
     "data": {
      "text/plain": [
       "-0.275174     2394\n",
       "-0.270853      104\n",
       "-0.266533       82\n",
       "-0.262212       76\n",
       "-0.257891       77\n",
       "-0.253571       61\n",
       "-0.249250       47\n",
       "-0.244929       44\n",
       "-0.240609       34\n",
       "-0.236288       36\n",
       "-0.231968       33\n",
       "-0.227647       25\n",
       "-0.223326       24\n",
       "-0.219006       25\n",
       "-0.214685       25\n",
       "-0.210364       26\n",
       "-0.206044       16\n",
       "-0.201723       17\n",
       "-0.197402       24\n",
       "-0.193082       14\n",
       "-0.188761       13\n",
       "-0.184441       16\n",
       "-0.180120        9\n",
       "-0.175799       13\n",
       "-0.171479       17\n",
       "-0.167158       11\n",
       "-0.162837        6\n",
       "-0.158517       12\n",
       "-0.154196       18\n",
       "-0.149876        7\n",
       "              ... \n",
       " 5.471262        1\n",
       " 5.497186        1\n",
       " 5.553354        1\n",
       " 5.743462        1\n",
       " 5.765065        1\n",
       " 5.769386        1\n",
       " 5.808272        1\n",
       " 6.127998        1\n",
       " 6.227373        1\n",
       " 6.339709        1\n",
       " 6.637832        2\n",
       " 6.672397        1\n",
       " 6.771772        1\n",
       " 6.784734        1\n",
       " 6.836581        1\n",
       " 6.940276        1\n",
       " 7.000765        1\n",
       " 7.078536        1\n",
       " 7.134705        1\n",
       " 7.216797        2\n",
       " 7.298888        1\n",
       " 7.346415        1\n",
       " 7.419866        1\n",
       " 8.007472        1\n",
       " 8.439534        1\n",
       " 8.452496        1\n",
       " 8.811109        1\n",
       " 9.675234        1\n",
       " 10.146183       1\n",
       " 11.282508       1\n",
       "Name: party_chat, Length: 515, dtype: int64"
      ]
     },
     "execution_count": 187,
     "metadata": {},
     "output_type": "execute_result"
    }
   ],
   "source": [
    "train_act['party_chat'].value_counts().sort_index()"
   ]
  },
  {
   "cell_type": "code",
   "execution_count": 188,
   "metadata": {},
   "outputs": [
    {
     "data": {
      "text/plain": [
       "2150    07d9752780687a84d2e3a3b1692f4606cb03eaaa5ea249...\n",
       "Name: acc_id, dtype: object"
      ]
     },
     "execution_count": 188,
     "metadata": {},
     "output_type": "execute_result"
    }
   ],
   "source": [
    "id = train_act[train_act['party_chat']>11]['acc_id']\n",
    "id"
   ]
  },
  {
   "cell_type": "code",
   "execution_count": 193,
   "metadata": {
    "scrolled": true
   },
   "outputs": [
    {
     "data": {
      "text/html": [
       "<div>\n",
       "<style scoped>\n",
       "    .dataframe tbody tr th:only-of-type {\n",
       "        vertical-align: middle;\n",
       "    }\n",
       "\n",
       "    .dataframe tbody tr th {\n",
       "        vertical-align: top;\n",
       "    }\n",
       "\n",
       "    .dataframe thead th {\n",
       "        text-align: right;\n",
       "    }\n",
       "</style>\n",
       "<table border=\"1\" class=\"dataframe\">\n",
       "  <thead>\n",
       "    <tr style=\"text-align: right;\">\n",
       "      <th></th>\n",
       "      <th>acc_id</th>\n",
       "      <th>label</th>\n",
       "      <th>payment_amount</th>\n",
       "    </tr>\n",
       "  </thead>\n",
       "  <tbody>\n",
       "  </tbody>\n",
       "</table>\n",
       "</div>"
      ],
      "text/plain": [
       "Empty DataFrame\n",
       "Columns: [acc_id, label, payment_amount]\n",
       "Index: []"
      ]
     },
     "execution_count": 193,
     "metadata": {},
     "output_type": "execute_result"
    }
   ],
   "source": [
    "train[train['acc_id'].isin(id)]"
   ]
  },
  {
   "cell_type": "code",
   "execution_count": 156,
   "metadata": {},
   "outputs": [
    {
     "data": {
      "text/plain": [
       "Index(['payment_week', 'acc_id', 'payment_amount'], dtype='object')"
      ]
     },
     "execution_count": 156,
     "metadata": {},
     "output_type": "execute_result"
    }
   ],
   "source": [
    "train_pay.columns"
   ]
  },
  {
   "cell_type": "code",
   "execution_count": null,
   "metadata": {
    "scrolled": true
   },
   "outputs": [],
   "source": [
    "train_pay['payment_amount'].value_counts().sort_index()"
   ]
  },
  {
   "cell_type": "markdown",
   "metadata": {},
   "source": [
    "# 전처리"
   ]
  },
  {
   "cell_type": "markdown",
   "metadata": {},
   "source": [
    "## Binning"
   ]
  },
  {
   "cell_type": "code",
   "execution_count": null,
   "metadata": {},
   "outputs": [],
   "source": []
  },
  {
   "cell_type": "markdown",
   "metadata": {},
   "source": [
    "## One-hot-encoding"
   ]
  },
  {
   "cell_type": "code",
   "execution_count": null,
   "metadata": {},
   "outputs": [],
   "source": []
  },
  {
   "cell_type": "markdown",
   "metadata": {},
   "source": [
    "================================================================================================"
   ]
  },
  {
   "cell_type": "markdown",
   "metadata": {},
   "source": [
    "# 알고리즘 학습"
   ]
  },
  {
   "cell_type": "markdown",
   "metadata": {},
   "source": [
    "## 학습 세트, 테스트 세트 나누기"
   ]
  },
  {
   "cell_type": "code",
   "execution_count": 89,
   "metadata": {},
   "outputs": [],
   "source": [
    "df = train.reindex()"
   ]
  },
  {
   "cell_type": "code",
   "execution_count": 90,
   "metadata": {},
   "outputs": [
    {
     "data": {
      "text/plain": [
       "700"
      ]
     },
     "execution_count": 90,
     "metadata": {},
     "output_type": "execute_result"
    }
   ],
   "source": [
    "split_count = int(df.shape[0] * 0.7)\n",
    "split_count"
   ]
  },
  {
   "cell_type": "code",
   "execution_count": 98,
   "metadata": {},
   "outputs": [
    {
     "data": {
      "text/plain": [
       "(300, 3)"
      ]
     },
     "execution_count": 98,
     "metadata": {},
     "output_type": "execute_result"
    }
   ],
   "source": [
    "train = df[:split_count].copy()\n",
    "test = df[split_count:].copy()\n",
    "train.shape\n",
    "test.shape"
   ]
  },
  {
   "cell_type": "markdown",
   "metadata": {},
   "source": [
    "## Random forest 예측"
   ]
  },
  {
   "cell_type": "code",
   "execution_count": 129,
   "metadata": {},
   "outputs": [
    {
     "data": {
      "text/plain": [
       "RandomForestClassifier(bootstrap=True, class_weight=None, criterion='gini',\n",
       "            max_depth=None, max_features='auto', max_leaf_nodes=None,\n",
       "            min_impurity_decrease=0.0, min_impurity_split=None,\n",
       "            min_samples_leaf=1, min_samples_split=2,\n",
       "            min_weight_fraction_leaf=0.0, n_estimators=500, n_jobs=-1,\n",
       "            oob_score=False, random_state=2018, verbose=0,\n",
       "            warm_start=False)"
      ]
     },
     "execution_count": 129,
     "metadata": {},
     "output_type": "execute_result"
    }
   ],
   "source": [
    "from sklearn.ensemble import RandomForestClassifier\n",
    "\n",
    "# 랜덤포레스트 분류기를 사용\n",
    "forest = RandomForestClassifier(\n",
    "    n_estimators = 500, n_jobs = -1, random_state=2018)\n",
    "forest"
   ]
  },
  {
   "cell_type": "code",
   "execution_count": 130,
   "metadata": {},
   "outputs": [],
   "source": [
    "train_features = train.drop(columns=['label','acc_id'])\n",
    "test_features = test.drop(columns=['label','acc_id'])"
   ]
  },
  {
   "cell_type": "code",
   "execution_count": 131,
   "metadata": {},
   "outputs": [
    {
     "name": "stdout",
     "output_type": "stream",
     "text": [
      "Wall time: 1.02 s\n"
     ]
    }
   ],
   "source": [
    "# 학습에 사용할 y_label 을 넣어줍니다.\n",
    "# 어떤 분야의 청원인지 예측할 것이기 때문에 label을 넣어줍니다.\n",
    "y_label = train['label']\n",
    "%time forest = forest.fit(train_features, y_label)"
   ]
  },
  {
   "cell_type": "code",
   "execution_count": 132,
   "metadata": {},
   "outputs": [
    {
     "data": {
      "text/plain": [
       "array(['month', 'month', 'month'], dtype=object)"
      ]
     },
     "execution_count": 132,
     "metadata": {},
     "output_type": "execute_result"
    }
   ],
   "source": [
    "# 테스트 데이터를 넣고 예측합니다.\n",
    "y_pred = forest.predict(test_features)\n",
    "y_pred[:3]"
   ]
  },
  {
   "cell_type": "code",
   "execution_count": 133,
   "metadata": {},
   "outputs": [
    {
     "data": {
      "text/plain": [
       "(300,)"
      ]
     },
     "execution_count": 133,
     "metadata": {},
     "output_type": "execute_result"
    }
   ],
   "source": [
    "y_pred.shape"
   ]
  },
  {
   "cell_type": "code",
   "execution_count": 138,
   "metadata": {
    "scrolled": true
   },
   "outputs": [
    {
     "data": {
      "text/plain": [
       "month       291\n",
       "week          4\n",
       "retained      3\n",
       "2month        2\n",
       "Name: label, dtype: int64"
      ]
     },
     "execution_count": 138,
     "metadata": {},
     "output_type": "execute_result"
    }
   ],
   "source": [
    "# 예측 결과를 저장하기 위해 데이터프레임에 담아 줍니다.\n",
    "output = pd.DataFrame(data={'acc_id':test['acc_id'],'label':y_pred})\n",
    "output['label'].value_counts()"
   ]
  },
  {
   "cell_type": "code",
   "execution_count": 139,
   "metadata": {},
   "outputs": [
    {
     "data": {
      "text/html": [
       "<div>\n",
       "<style scoped>\n",
       "    .dataframe tbody tr th:only-of-type {\n",
       "        vertical-align: middle;\n",
       "    }\n",
       "\n",
       "    .dataframe tbody tr th {\n",
       "        vertical-align: top;\n",
       "    }\n",
       "\n",
       "    .dataframe thead th {\n",
       "        text-align: right;\n",
       "    }\n",
       "</style>\n",
       "<table border=\"1\" class=\"dataframe\">\n",
       "  <thead>\n",
       "    <tr style=\"text-align: right;\">\n",
       "      <th></th>\n",
       "      <th>acc_id</th>\n",
       "      <th>label</th>\n",
       "    </tr>\n",
       "  </thead>\n",
       "  <tbody>\n",
       "    <tr>\n",
       "      <th>700</th>\n",
       "      <td>1f02f7ea61ae4b89f6aed7a37ff8fe3f766dada1aeb757...</td>\n",
       "      <td>month</td>\n",
       "    </tr>\n",
       "    <tr>\n",
       "      <th>701</th>\n",
       "      <td>4db9d41b74b9d66ee92635bc364094b22663555bf8d585...</td>\n",
       "      <td>month</td>\n",
       "    </tr>\n",
       "    <tr>\n",
       "      <th>702</th>\n",
       "      <td>659b812ea29120e046baeda06a5792c1781775e1da47d0...</td>\n",
       "      <td>month</td>\n",
       "    </tr>\n",
       "    <tr>\n",
       "      <th>703</th>\n",
       "      <td>ecb6ce93cad66d0d617838020eef3de47501deb2372e83...</td>\n",
       "      <td>month</td>\n",
       "    </tr>\n",
       "    <tr>\n",
       "      <th>704</th>\n",
       "      <td>3a231d8d9318a61a7083dee06ec33e80f88608f3b43d41...</td>\n",
       "      <td>month</td>\n",
       "    </tr>\n",
       "  </tbody>\n",
       "</table>\n",
       "</div>"
      ],
      "text/plain": [
       "                                                acc_id  label\n",
       "700  1f02f7ea61ae4b89f6aed7a37ff8fe3f766dada1aeb757...  month\n",
       "701  4db9d41b74b9d66ee92635bc364094b22663555bf8d585...  month\n",
       "702  659b812ea29120e046baeda06a5792c1781775e1da47d0...  month\n",
       "703  ecb6ce93cad66d0d617838020eef3de47501deb2372e83...  month\n",
       "704  3a231d8d9318a61a7083dee06ec33e80f88608f3b43d41...  month"
      ]
     },
     "execution_count": 139,
     "metadata": {},
     "output_type": "execute_result"
    }
   ],
   "source": [
    "output.head()"
   ]
  },
  {
   "cell_type": "markdown",
   "metadata": {},
   "source": [
    "=================================================================================="
   ]
  },
  {
   "cell_type": "markdown",
   "metadata": {},
   "source": [
    "# 평가 함수 만들기"
   ]
  },
  {
   "cell_type": "code",
   "execution_count": null,
   "metadata": {},
   "outputs": [],
   "source": []
  },
  {
   "cell_type": "markdown",
   "metadata": {},
   "source": [
    "# 파일 출력"
   ]
  },
  {
   "cell_type": "code",
   "execution_count": 147,
   "metadata": {},
   "outputs": [],
   "source": [
    "output.to_csv('C://Users/USER/dataitgirls/BIGcontest/result.csv',index=False)"
   ]
  }
 ],
 "metadata": {
  "kernelspec": {
   "display_name": "Python 3",
   "language": "python",
   "name": "python3"
  },
  "language_info": {
   "codemirror_mode": {
    "name": "ipython",
    "version": 3
   },
   "file_extension": ".py",
   "mimetype": "text/x-python",
   "name": "python",
   "nbconvert_exporter": "python",
   "pygments_lexer": "ipython3",
   "version": "3.6.5"
  }
 },
 "nbformat": 4,
 "nbformat_minor": 2
}
